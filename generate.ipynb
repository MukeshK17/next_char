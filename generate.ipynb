{
 "cells": [
  {
   "cell_type": "code",
   "execution_count": 18,
   "metadata": {
    "_cell_guid": "b1076dfc-b9ad-4769-8c92-a6c4dae69d19",
    "_uuid": "8f2839f25d086af736a60e9eeb907d3b93b6e0e5",
    "execution": {
     "iopub.execute_input": "2024-12-12T12:13:37.641913Z",
     "iopub.status.busy": "2024-12-12T12:13:37.641596Z",
     "iopub.status.idle": "2024-12-12T12:14:06.196301Z",
     "shell.execute_reply": "2024-12-12T12:14:06.195278Z",
     "shell.execute_reply.started": "2024-12-12T12:13:37.641885Z"
    },
    "trusted": true
   },
   "outputs": [],
   "source": [
    "import numpy as np\n",
    "import pandas as pd\n",
    "import matplotlib.pyplot as plt\n",
    "import torch\n",
    "import torch.nn.functional as F\n",
    "from torch import nn\n",
    "from pprint import pprint\n",
    "from sklearn.manifold import TSNE\n",
    "import torch._dynamo\n",
    "import warnings\n",
    "warnings.filterwarnings(\"ignore\")\n",
    "torch._dynamo.config.suppress_errors = True"
   ]
  },
  {
   "cell_type": "code",
   "execution_count": 19,
   "metadata": {
    "execution": {
     "iopub.execute_input": "2024-12-12T12:14:06.198460Z",
     "iopub.status.busy": "2024-12-12T12:14:06.198018Z",
     "iopub.status.idle": "2024-12-12T12:14:06.203581Z",
     "shell.execute_reply": "2024-12-12T12:14:06.202867Z",
     "shell.execute_reply.started": "2024-12-12T12:14:06.198433Z"
    },
    "trusted": true
   },
   "outputs": [
    {
     "name": "stdout",
     "output_type": "stream",
     "text": [
      "device: cpu\n"
     ]
    }
   ],
   "source": [
    "if (torch.cuda.is_available()):\n",
    "    device = torch.device(\"cuda\")\n",
    "else:\n",
    "    device = torch.device(\"cpu\")\n",
    "print(\"device:\",device)"
   ]
  },
  {
   "cell_type": "code",
   "execution_count": 20,
   "metadata": {
    "execution": {
     "iopub.execute_input": "2024-12-12T12:14:06.204708Z",
     "iopub.status.busy": "2024-12-12T12:14:06.204469Z",
     "iopub.status.idle": "2024-12-12T12:14:06.255821Z",
     "shell.execute_reply": "2024-12-12T12:14:06.255102Z",
     "shell.execute_reply.started": "2024-12-12T12:14:06.204684Z"
    },
    "trusted": true
   },
   "outputs": [],
   "source": [
    "file_path = r'D:\\GITHUB\\new_char\\MalgudiDays.txt'\n",
    "\n",
    "with open(file_path, 'r', encoding='utf-8') as file:\n",
    "    content = file.read()\n",
    "\n",
    "new_text =\"\"\n",
    "for character in content:\n",
    "    new_text+= character.lower()\n"
   ]
  },
  {
   "cell_type": "code",
   "execution_count": 21,
   "metadata": {
    "execution": {
     "iopub.execute_input": "2024-12-12T12:14:06.258073Z",
     "iopub.status.busy": "2024-12-12T12:14:06.257777Z",
     "iopub.status.idle": "2024-12-12T12:14:06.261903Z",
     "shell.execute_reply": "2024-12-12T12:14:06.261242Z",
     "shell.execute_reply.started": "2024-12-12T12:14:06.258045Z"
    },
    "trusted": true
   },
   "outputs": [
    {
     "name": "stdout",
     "output_type": "stream",
     "text": [
      "Malgudi Days\n",
      "\n",
      "Introduction\n",
      "Here is one way I propose that you read this book: one story per day, for thirty-two consecutive \n",
      "days, by the end of which you will have experienced Malgudi Days as a Malgudi month, more or \n",
      "less. Each day's reading, with only a few exceptions, will take about ten minutes. The vast \n",
      "majority of these stories are less than ten pages long, several are under five, and only one is \n",
      "more than twenty. \"What a fine idea,\" you are perhaps thinking, \"ten minutes a day, I can \n",
      "\n"
     ]
    }
   ],
   "source": [
    "print(content[:500])"
   ]
  },
  {
   "cell_type": "code",
   "execution_count": 22,
   "metadata": {
    "execution": {
     "iopub.execute_input": "2024-12-12T12:14:06.262906Z",
     "iopub.status.busy": "2024-12-12T12:14:06.262671Z",
     "iopub.status.idle": "2024-12-12T12:14:06.276196Z",
     "shell.execute_reply": "2024-12-12T12:14:06.275438Z",
     "shell.execute_reply.started": "2024-12-12T12:14:06.262883Z"
    },
    "trusted": true
   },
   "outputs": [
    {
     "name": "stdout",
     "output_type": "stream",
     "text": [
      "55\n",
      "length of text  527861\n"
     ]
    }
   ],
   "source": [
    "characters = sorted(list(set(''.join(new_text))))\n",
    "stoi = {s:i+1 for i,s in enumerate(characters)}\n",
    "stoi['`'] = 0\n",
    "itos = {i:s for s,i in stoi.items()}\n",
    "print(len(itos))\n",
    "print(\"length of text \",len(new_text))\n",
    "\n"
   ]
  },
  {
   "cell_type": "code",
   "execution_count": 23,
   "metadata": {
    "execution": {
     "iopub.execute_input": "2024-12-12T12:14:06.277445Z",
     "iopub.status.busy": "2024-12-12T12:14:06.277190Z",
     "iopub.status.idle": "2024-12-12T12:14:06.310099Z",
     "shell.execute_reply": "2024-12-12T12:14:06.309301Z",
     "shell.execute_reply.started": "2024-12-12T12:14:06.277420Z"
    },
    "trusted": true
   },
   "outputs": [
    {
     "name": "stdout",
     "output_type": "stream",
     "text": [
      "{1: '\\n', 2: ' ', 3: '!', 4: '\"', 5: \"'\", 6: '(', 7: ')', 8: ',', 9: '-', 10: '.', 11: '/', 12: '0', 13: '1', 14: '2', 15: '3', 16: '4', 17: '5', 18: '6', 19: '7', 20: '8', 21: '9', 22: ':', 23: ';', 24: '?', 25: '[', 26: ']', 27: 'a', 28: 'b', 29: 'c', 30: 'd', 31: 'e', 32: 'f', 33: 'g', 34: 'h', 35: 'i', 36: 'j', 37: 'k', 38: 'l', 39: 'm', 40: 'n', 41: 'o', 42: 'p', 43: 'q', 44: 'r', 45: 's', 46: 't', 47: 'u', 48: 'v', 49: 'w', 50: 'x', 51: 'y', 52: 'z', 53: '¬', 54: '—', 0: '`'}\n"
     ]
    }
   ],
   "source": [
    "print(itos)"
   ]
  },
  {
   "cell_type": "code",
   "execution_count": 24,
   "metadata": {
    "execution": {
     "iopub.execute_input": "2024-12-12T12:14:06.311471Z",
     "iopub.status.busy": "2024-12-12T12:14:06.311193Z",
     "iopub.status.idle": "2024-12-12T12:14:09.381637Z",
     "shell.execute_reply": "2024-12-12T12:14:09.380725Z",
     "shell.execute_reply.started": "2024-12-12T12:14:06.311445Z"
    },
    "trusted": true
   },
   "outputs": [
    {
     "name": "stdout",
     "output_type": "stream",
     "text": [
      "Training Samples: torch.Size([527861, 100])\n",
      "Labels:torch.Size([527861])\n",
      "\n",
      "\n"
     ]
    }
   ],
   "source": [
    "block_size = 100\n",
    "X, Y = [], []\n",
    "context = [0] * block_size\n",
    "for j in range(len(new_text)):\n",
    "  ix = stoi[new_text[j]]\n",
    "  X.append(context)\n",
    "  Y.append(ix)\n",
    "  context = context[1:] + [ix]\n",
    "\n",
    "X = torch.tensor(X).to(device)\n",
    "Y = torch.tensor(Y).to(device)\n",
    "\n",
    "print(f\"Training Samples: {X.shape}\\nLabels:{Y.shape}\\n\\n\")"
   ]
  },
  {
   "cell_type": "code",
   "execution_count": 25,
   "metadata": {
    "execution": {
     "iopub.execute_input": "2024-12-12T12:14:09.383059Z",
     "iopub.status.busy": "2024-12-12T12:14:09.382760Z",
     "iopub.status.idle": "2024-12-12T12:14:09.388821Z",
     "shell.execute_reply": "2024-12-12T12:14:09.387974Z",
     "shell.execute_reply.started": "2024-12-12T12:14:09.383032Z"
    },
    "trusted": true
   },
   "outputs": [],
   "source": [
    "class NextChar(nn.Module):\n",
    "  def __init__(self, block_size, vocab_size, emb_dim, hidden_size):\n",
    "    super().__init__()\n",
    "    self.emb = nn.Embedding(vocab_size, emb_dim)\n",
    "    self.fc1 = nn.Linear(block_size * emb_dim, hidden_size)\n",
    "    self.fc2 = nn.Linear(hidden_size, 50) \n",
    "    self.fc3 = nn.Linear(50, vocab_size)\n",
    "\n",
    "  def forward(self, x):\n",
    "    x = self.emb(x)\n",
    "    x = x.view(x.shape[0], -1)\n",
    "    x = torch.tanh(self.fc1(x))\n",
    "    x = torch.tanh(self.fc2(x))  \n",
    "    x = self.fc3(x)\n",
    "    return x"
   ]
  },
  {
   "cell_type": "code",
   "execution_count": 26,
   "metadata": {
    "execution": {
     "iopub.execute_input": "2024-12-12T12:14:09.390133Z",
     "iopub.status.busy": "2024-12-12T12:14:09.389857Z",
     "iopub.status.idle": "2024-12-12T12:14:09.409135Z",
     "shell.execute_reply": "2024-12-12T12:14:09.408308Z",
     "shell.execute_reply.started": "2024-12-12T12:14:09.390108Z"
    },
    "trusted": true
   },
   "outputs": [
    {
     "name": "stdout",
     "output_type": "stream",
     "text": [
      "Parameter containing:\n",
      "tensor([[-6.4899e-01, -6.2821e-01,  1.3094e+00,  6.9051e-01, -5.1093e-01,\n",
      "          1.2399e+00,  1.2123e-01,  7.7522e-01,  1.2707e+00,  1.3448e-01,\n",
      "          1.3066e+00,  1.5959e+00, -1.6987e+00,  1.3561e+00,  1.1918e+00],\n",
      "        [ 6.7550e-01,  1.5550e-01, -5.4128e-01,  1.0718e+00, -3.3246e-01,\n",
      "          1.3044e+00,  1.1679e+00, -3.9784e-01, -1.0956e+00,  1.4130e+00,\n",
      "         -3.9505e-02,  1.0432e-01,  8.7423e-01, -2.3478e-01, -5.8118e-01],\n",
      "        [ 1.4072e-01, -8.6606e-01, -4.7345e-01,  3.6548e-01, -6.4917e-01,\n",
      "         -1.0308e+00, -3.9094e-01, -6.6019e-01, -1.9194e-01, -4.6969e-01,\n",
      "         -5.8117e-02, -1.2885e+00, -1.5596e+00, -6.0657e-01, -5.9801e-01],\n",
      "        [-1.4255e+00, -7.0446e-01,  3.2966e-01,  6.2585e-01, -4.2584e-01,\n",
      "          3.8740e-01,  1.3517e+00,  9.3563e-01,  3.6855e-01,  1.7021e+00,\n",
      "          1.1037e+00,  5.0777e-01, -1.2211e-02,  1.5794e+00,  1.5905e+00],\n",
      "        [-1.4987e-01,  1.0222e+00,  7.5855e-01,  1.7079e+00, -1.9737e+00,\n",
      "         -2.7736e-01, -1.3861e-01, -2.1893e-01,  6.1601e-01, -1.0060e+00,\n",
      "         -9.2416e-01,  1.4563e-01,  2.1491e+00, -1.1688e+00,  5.4843e-01],\n",
      "        [ 9.5410e-01,  1.9288e-01, -1.4102e+00,  6.0174e-01,  3.3879e+00,\n",
      "          7.5857e-01, -5.7993e-02,  7.8404e-01, -3.9107e-01,  4.6111e-01,\n",
      "          1.7991e-02,  1.3130e-01, -7.0630e-02,  8.4265e-01,  5.7641e-01],\n",
      "        [ 3.8274e-01, -2.0444e+00,  8.4822e-01,  9.3206e-01, -2.0832e-01,\n",
      "         -2.1006e-01,  1.0845e+00,  4.0490e-01,  1.0139e+00, -1.4792e-01,\n",
      "          1.9194e-01,  5.8366e-01, -2.8160e-01, -1.9222e-01,  1.2393e+00],\n",
      "        [-2.1317e+00, -7.5481e-01,  5.4314e-03,  1.4293e-01,  5.9712e-01,\n",
      "          8.4292e-01, -1.7109e-01,  5.6167e-01, -1.1225e+00,  3.6984e-01,\n",
      "          5.1930e-01,  6.1371e-01, -1.1211e-01,  1.6598e+00,  3.1745e-01],\n",
      "        [-1.5838e+00, -1.6143e-01,  1.4881e+00, -3.1212e-01,  5.5047e-01,\n",
      "          4.6982e-01, -9.5243e-01, -1.0567e+00, -9.8374e-01, -1.2023e+00,\n",
      "         -2.2196e-01, -7.9063e-01, -1.1502e-01,  9.0192e-01, -1.4167e+00],\n",
      "        [-6.5024e-01,  1.1418e+00,  2.6784e-01, -9.6848e-01,  1.0388e+00,\n",
      "          1.6654e+00, -4.4104e-01,  8.7055e-01,  1.3771e+00, -2.7809e-03,\n",
      "         -5.1162e-01,  9.1698e-02, -6.3790e-01, -8.4102e-01, -3.2838e-01],\n",
      "        [-8.3534e-01,  1.3709e-01, -5.2828e-02, -1.7229e+00, -3.5844e-01,\n",
      "          3.2150e-01,  1.8839e+00, -1.8875e-01, -4.3919e-01,  4.5607e-01,\n",
      "          6.5214e-01, -1.1130e+00, -9.4069e-01,  5.3895e-01,  4.5155e-01],\n",
      "        [-8.8262e-01, -4.4847e-01, -1.4152e+00,  5.0648e-01,  2.3838e-01,\n",
      "          5.3438e-01,  7.9848e-03,  8.7123e-01,  1.0043e+00, -1.3231e+00,\n",
      "         -1.2735e+00,  4.1270e-01,  4.0335e-01,  2.4502e-01, -4.1113e-01],\n",
      "        [ 1.7075e+00, -1.8213e+00,  1.9328e+00,  8.4256e-01,  8.4804e-01,\n",
      "         -1.3381e+00,  1.9752e+00, -6.5222e-01, -6.6525e-01, -1.4095e+00,\n",
      "         -1.5441e-01, -4.6195e-01,  6.7483e-01, -5.8150e-01,  7.0208e-01],\n",
      "        [-8.3955e-01,  9.1084e-01, -3.8595e-01, -3.4607e-01, -1.0378e-01,\n",
      "          1.7378e+00,  4.6661e-01, -7.1510e-01,  2.3093e-01, -1.0747e+00,\n",
      "          6.4709e-01, -1.8085e+00,  1.7175e+00, -1.2461e+00,  5.3957e-01],\n",
      "        [ 3.5230e-01, -4.1863e-01,  1.1493e+00, -7.8190e-01,  7.2304e-02,\n",
      "          7.3496e-01, -4.8885e-01,  1.6912e+00,  3.2494e-01,  1.6339e+00,\n",
      "          3.8228e-01, -4.9568e-02, -8.9959e-01, -1.6777e+00, -1.4653e-01],\n",
      "        [ 5.0994e-01, -1.1344e-01, -9.5740e-01,  1.6165e+00, -7.3015e-01,\n",
      "          2.0464e+00,  1.4426e+00, -8.4207e-01,  4.9138e-01,  6.5522e-01,\n",
      "          1.8047e+00, -1.4994e-01, -2.9574e+00, -3.0213e-01, -3.6317e-01],\n",
      "        [-6.6118e-01, -4.6693e-01,  2.4778e-01,  5.2400e-01,  6.6904e-01,\n",
      "         -1.8492e+00, -2.2530e-01,  8.2329e-01, -4.6086e-01, -1.6475e+00,\n",
      "          1.3940e-01,  5.8609e-01, -6.4154e-01, -5.4120e-01,  1.6533e-01],\n",
      "        [-1.4730e+00,  4.2310e-01, -8.8200e-01,  7.9223e-01,  5.8437e-01,\n",
      "          8.4055e-01,  1.6322e+00, -2.2737e+00,  1.0867e-01, -3.0186e-01,\n",
      "          8.8746e-01, -5.3945e-01,  5.1943e-01, -8.8015e-01,  3.0413e-01],\n",
      "        [ 1.3970e+00,  5.8110e-01,  8.9411e-01,  1.0406e+00, -6.1395e-01,\n",
      "          1.4578e+00, -8.8157e-01, -6.9349e-01, -4.6061e-01,  5.0808e-01,\n",
      "         -1.0319e+00,  3.0794e-01, -8.4136e-01, -1.2260e+00, -2.6900e-01],\n",
      "        [-1.0820e+00, -1.1399e+00,  1.2066e+00, -6.1369e-01, -5.8063e-01,\n",
      "          1.9288e+00,  1.0549e+00,  5.5404e-01,  3.7012e-01,  1.8502e-02,\n",
      "         -5.0122e-02, -3.1526e-01, -5.6845e-01,  7.1936e-01, -3.3353e-01],\n",
      "        [ 1.4649e+00,  4.2785e-02,  1.4751e+00, -1.1263e+00,  6.6579e-01,\n",
      "         -3.8440e-01, -8.5848e-01, -1.1154e+00, -4.5291e-01,  7.4283e-01,\n",
      "          1.6431e+00,  1.5229e+00,  1.1136e-01, -2.1181e+00, -6.1701e-01],\n",
      "        [-4.6541e-02,  4.5800e-01,  2.4994e-01, -4.8082e-01, -9.1022e-01,\n",
      "          3.9478e-02,  5.5894e-01, -1.2577e+00, -1.7639e+00,  1.5368e-01,\n",
      "         -1.0770e+00,  2.2413e-01,  1.4432e+00,  2.5710e-01, -2.7501e-01],\n",
      "        [ 5.4244e-01, -1.3249e+00,  1.5735e+00, -2.7340e-01,  1.3940e+00,\n",
      "          9.5463e-02,  6.5881e-01, -1.2823e+00,  2.1147e-01, -3.9421e-01,\n",
      "         -1.9020e-01, -1.1312e+00, -6.4577e-01, -1.8771e+00,  8.8335e-01],\n",
      "        [ 8.6888e-01, -6.1535e-01, -7.8098e-01,  2.5017e+00,  3.4964e-01,\n",
      "          1.1696e+00, -7.4359e-01, -4.6775e-01,  7.6265e-01,  1.5637e+00,\n",
      "         -1.3270e+00, -5.3811e-01, -9.1323e-01, -6.7244e-01,  8.0893e-01],\n",
      "        [-1.9991e+00,  1.2014e+00, -3.3686e-01, -1.0395e+00, -1.0820e+00,\n",
      "         -8.3601e-01, -5.3162e-01,  7.5675e-01,  4.7092e-01, -7.1280e-01,\n",
      "          7.3236e-01,  9.5037e-01,  5.5865e-01,  7.4491e-01, -8.6561e-01],\n",
      "        [ 8.0553e-01,  1.5262e-03,  1.2857e+00,  5.9992e-01, -1.1976e+00,\n",
      "         -7.3064e-01, -4.9772e-01,  8.9539e-01, -7.5989e-01, -1.9258e+00,\n",
      "          1.5900e+00,  1.1097e+00,  7.8332e-01, -1.1254e+00, -7.7929e-01],\n",
      "        [-5.3264e-02,  6.7272e-01,  7.4092e-01,  4.1296e-01,  8.3728e-01,\n",
      "         -8.1984e-01, -3.0672e-01, -5.1511e-01, -9.2133e-01,  1.4786e+00,\n",
      "          5.7396e-01,  3.3153e-01, -6.1809e-01,  1.1835e+00,  5.3304e-01],\n",
      "        [ 3.4887e-01,  8.9294e-01,  3.0442e-01, -4.9069e-01, -6.3130e-01,\n",
      "         -8.6077e-01, -1.4470e+00,  4.9958e-01, -4.5862e-02,  1.1198e+00,\n",
      "          4.4699e-02,  2.4891e-01,  5.5200e-01,  8.5326e-01,  1.1465e+00],\n",
      "        [-1.4450e-01,  4.9493e-01, -1.3048e-01, -2.8591e-02,  1.9150e+00,\n",
      "          1.0886e+00,  5.7893e-01,  2.4183e-01, -1.0365e+00,  1.1849e+00,\n",
      "          3.3483e-01, -9.9315e-01, -7.2107e-01,  8.8599e-01,  2.7668e-02],\n",
      "        [-5.2008e-01,  9.6590e-01, -9.6290e-01, -1.9764e+00,  9.8257e-01,\n",
      "         -9.5512e-01, -3.5576e-01,  1.6935e-01,  2.3847e-01,  3.5522e-01,\n",
      "         -8.8610e-01,  8.0215e-01,  1.8265e-01,  1.0337e+00,  7.5758e-01],\n",
      "        [-3.1957e-01, -5.3195e-01, -7.7816e-01,  1.6576e+00, -3.6083e-01,\n",
      "          9.8601e-01, -2.5689e-01, -7.1479e-01, -1.3309e+00,  9.6448e-01,\n",
      "          2.3492e-01, -8.9873e-01, -1.0285e-01,  7.5305e-01, -7.5164e-01],\n",
      "        [-8.2454e-01,  1.4312e+00, -6.9335e-01,  6.7888e-03,  2.0891e+00,\n",
      "         -1.9524e+00,  1.2212e+00, -1.7737e+00, -1.6503e+00,  3.3234e-01,\n",
      "          5.6170e-02,  6.7152e-01,  4.5696e-02, -3.7088e-01, -8.4508e-02],\n",
      "        [-2.6884e+00, -7.9548e-01,  7.3544e-01,  1.2003e+00,  9.5071e-02,\n",
      "          1.7083e+00, -1.2510e+00, -1.1402e-01, -6.2036e-01,  6.1073e-01,\n",
      "          1.1442e+00,  9.0306e-01,  8.2853e-01,  4.5947e-01,  1.3714e+00],\n",
      "        [ 8.7484e-02, -2.0189e+00, -4.1933e-01, -6.0829e-04,  1.0776e-01,\n",
      "          8.7617e-01, -1.5843e+00,  1.6271e+00,  6.3507e-01,  4.0677e-01,\n",
      "          1.6847e+00,  2.1654e-02,  1.1029e+00, -1.0321e+00,  8.4083e-01],\n",
      "        [-7.0961e-01,  2.0161e-01, -1.9714e+00,  1.3025e+00, -1.1722e+00,\n",
      "          1.7339e+00, -2.1741e+00, -4.0863e-01, -6.0115e-03,  6.2763e-01,\n",
      "         -7.6126e-01,  1.6645e-01,  9.3881e-01,  5.1255e-01,  1.5738e-01],\n",
      "        [ 2.2991e-01, -2.7188e+00,  1.1980e-01, -4.6642e-01,  2.6515e-01,\n",
      "          2.0398e+00, -7.4643e-01, -1.2453e+00,  1.7994e+00, -2.1422e-01,\n",
      "          1.0682e+00, -4.5808e-01,  2.8988e-01, -2.5770e-01,  1.6696e+00],\n",
      "        [ 1.1242e-01,  5.3825e-01,  8.4792e-02, -2.1884e+00, -3.0034e-01,\n",
      "         -6.2158e-01, -6.7693e-01,  2.0944e+00,  3.7494e-01,  1.3801e+00,\n",
      "         -1.0997e+00,  5.7553e-02, -6.4378e-01,  1.0605e+00,  2.2593e-01],\n",
      "        [ 2.3794e-01,  9.6821e-01, -5.9744e-01,  5.3147e-01,  2.8608e-01,\n",
      "          6.9087e-01, -5.5995e-01,  2.7299e-01,  7.0897e-01,  3.8347e-01,\n",
      "         -6.8221e-01,  4.7566e-01, -1.6580e-01, -1.4745e+00, -1.3495e+00],\n",
      "        [-4.7994e-02, -8.9615e-01,  1.1905e-01, -9.6755e-02,  1.4080e-01,\n",
      "         -9.2054e-01,  1.8886e-01,  1.0135e+00,  6.9209e-01, -1.2783e+00,\n",
      "          7.8295e-01,  7.0083e-01, -8.9649e-01,  3.9045e-01,  2.6820e-01],\n",
      "        [ 4.5412e-01,  1.7669e+00,  1.0844e+00, -1.2820e-01, -5.7638e-01,\n",
      "         -1.6806e+00,  5.7930e-01, -8.2997e-01,  2.4777e-01, -1.2643e+00,\n",
      "          1.4041e+00,  4.3643e-01, -1.0785e+00, -8.2419e-01, -7.8280e-01],\n",
      "        [-2.5760e+00, -1.9527e+00, -4.4204e-01, -7.3108e-02, -1.1607e+00,\n",
      "         -8.0445e-01,  1.2062e+00,  1.3461e+00, -2.0667e-01, -7.1508e-01,\n",
      "          1.0078e+00, -5.4114e-01, -2.6190e+00, -6.7456e-01, -6.5232e-02],\n",
      "        [ 1.4700e-01,  8.1518e-01,  1.3156e+00,  1.1906e-01,  2.3022e-01,\n",
      "          6.6085e-01, -1.7839e+00,  5.0702e-01, -9.1165e-01, -2.3849e+00,\n",
      "          4.5849e-01,  3.6882e-01,  8.5598e-01,  1.1383e+00,  1.2183e-01],\n",
      "        [-7.1913e-01, -5.3113e-02, -4.1308e-01, -6.6840e-01, -1.1966e+00,\n",
      "         -4.8302e-01,  1.3762e+00,  2.3961e-01,  8.6686e-01, -1.5267e+00,\n",
      "         -3.2219e-01,  1.1126e+00,  7.9285e-01, -9.8875e-02, -8.4114e-01],\n",
      "        [ 8.3975e-01, -1.0475e+00,  2.6019e-02, -6.7894e-01,  4.0008e-01,\n",
      "         -1.0279e+00,  7.2551e-01, -6.0448e-01,  1.6459e+00, -1.3549e+00,\n",
      "         -1.3648e+00,  3.1269e-01,  8.7625e-01,  3.8687e-01,  1.1313e-01],\n",
      "        [-2.4572e+00,  1.7673e+00,  1.5219e-01, -9.8369e-01,  7.2297e-01,\n",
      "         -8.3965e-01,  6.4647e-01,  1.0398e+00,  1.2777e+00, -3.1474e-01,\n",
      "          3.2935e-01, -1.6215e-01, -3.7276e-01, -1.0274e+00,  9.2368e-02],\n",
      "        [ 7.6475e-01,  9.9654e-01,  6.0806e-02, -3.3480e-01, -1.3967e+00,\n",
      "         -1.0901e+00, -1.3002e+00,  8.9759e-01,  8.8672e-01, -6.8740e-01,\n",
      "         -1.0942e+00,  9.6746e-01,  9.8004e-01, -8.6826e-01,  9.1252e-01],\n",
      "        [-2.7341e-01,  1.0384e+00,  5.2107e-01,  9.4855e-02, -9.1662e-01,\n",
      "          1.9498e-01, -1.0890e+00,  6.6196e-01, -1.1155e+00,  1.0429e+00,\n",
      "         -5.9822e-01,  1.4645e+00, -6.7520e-01,  2.1986e-01,  2.4200e-01],\n",
      "        [ 1.1205e-02,  7.0319e-01,  8.9001e-01,  1.1883e+00, -1.0688e+00,\n",
      "          1.3679e+00, -8.1692e-01, -9.8498e-01, -1.9395e+00, -3.0561e-02,\n",
      "          1.3467e+00, -1.1990e+00,  8.2726e-02,  6.6046e-01, -1.3191e+00],\n",
      "        [-3.2812e-01,  1.1088e+00,  3.4354e-01, -2.1416e-01,  1.5214e+00,\n",
      "          1.7337e+00,  8.9539e-01, -1.2733e-01,  1.1966e+00, -4.3192e-02,\n",
      "          5.8696e-02, -4.9609e-01,  2.7322e+00, -9.7960e-01,  7.4652e-01],\n",
      "        [ 4.3685e-01, -1.9355e+00, -1.6957e+00, -1.5815e+00,  5.4276e-01,\n",
      "          8.1208e-01, -1.1677e+00, -6.5819e-01,  1.3385e+00, -2.5084e-01,\n",
      "         -9.5362e-01, -1.3047e+00, -3.8805e-01,  5.9074e-01,  2.3982e-01],\n",
      "        [ 1.1296e+00, -1.6122e+00,  1.8561e+00,  7.8062e-01,  6.0898e-01,\n",
      "          1.4610e+00,  6.0599e-01,  1.2252e+00,  1.9199e+00,  1.8028e+00,\n",
      "         -2.3918e+00,  8.1581e-01, -1.9444e-01,  9.6170e-01, -5.9719e-01],\n",
      "        [-1.2205e+00,  2.1996e+00,  1.8759e-01,  1.2866e-01, -4.8816e-01,\n",
      "         -4.1882e-01,  6.1145e-01, -1.6837e+00, -1.0065e-01, -8.7901e-01,\n",
      "         -1.1686e-01,  1.5881e+00,  2.9512e-01, -1.0708e+00, -1.0653e+00],\n",
      "        [ 1.0125e+00, -4.5419e-01, -8.6635e-01, -6.7919e-01,  1.2806e+00,\n",
      "          3.1218e-01, -6.3126e-01, -1.5391e+00, -8.3417e-01, -9.5656e-01,\n",
      "          2.4779e+00,  1.7181e+00, -7.5857e-01,  7.6429e-01,  7.6973e-01],\n",
      "        [ 7.6782e-01,  2.0854e+00,  3.6675e-01, -2.7493e-02, -9.2543e-03,\n",
      "         -1.0591e+00, -1.0157e+00, -3.0437e-01,  1.4666e-03, -2.1292e-01,\n",
      "          2.2339e-01,  1.1838e+00,  1.6700e-01,  1.9418e+00, -5.3207e-02],\n",
      "        [-6.7235e-01, -1.2223e+00, -1.0204e+00, -1.0429e-01,  9.7721e-01,\n",
      "          2.1478e-01, -1.7123e+00,  8.8189e-01,  9.3629e-01, -1.6347e-01,\n",
      "         -2.4402e-01, -6.9214e-01, -5.8680e-02,  7.9894e-01, -8.5559e-02]],\n",
      "       requires_grad=True)\n"
     ]
    }
   ],
   "source": [
    "emb_dim = 15\n",
    "emb = torch.nn.Embedding(len(stoi), emb_dim)\n",
    "print(emb.weight)"
   ]
  },
  {
   "cell_type": "code",
   "execution_count": 27,
   "metadata": {
    "execution": {
     "iopub.execute_input": "2024-12-12T12:14:09.411660Z",
     "iopub.status.busy": "2024-12-12T12:14:09.411418Z",
     "iopub.status.idle": "2024-12-12T12:14:11.157951Z",
     "shell.execute_reply": "2024-12-12T12:14:11.156891Z",
     "shell.execute_reply.started": "2024-12-12T12:14:09.411637Z"
    },
    "trusted": true
   },
   "outputs": [],
   "source": [
    "# Generating names from untrained model\n",
    "model = NextChar(block_size, len(stoi), emb_dim, 100).to(device)\n",
    "model = torch.compile(model)\n",
    "g = torch.Generator()\n",
    "g.manual_seed(40002)\n",
    "def generate_text(model, itos ,stoi,block_size, max_len, start_str = None):\n",
    "    context = [0]*block_size\n",
    "    if start_str is not None:\n",
    "        for s in start_str:\n",
    "            context = context[1:] + [stoi[s]]\n",
    "\n",
    "    text = start_str if start_str else \"\"\n",
    "    for i in range(max_len):\n",
    "        x = torch.tensor(context).unsqueeze(0).to(device)\n",
    "        y_pred = model(x)\n",
    "        ix = torch.distributions.categorical.Categorical(logits= y_pred).sample().item()\n",
    "        ch = itos[ix]\n",
    "        text += ch\n",
    "        context = context[1:] + [ix]\n",
    "    return text\n"
   ]
  },
  {
   "cell_type": "code",
   "execution_count": null,
   "metadata": {
    "execution": {
     "iopub.execute_input": "2024-12-12T12:14:11.160215Z",
     "iopub.status.busy": "2024-12-12T12:14:11.159294Z",
     "iopub.status.idle": "2024-12-12T12:14:51.797177Z",
     "shell.execute_reply": "2024-12-12T12:14:51.796115Z",
     "shell.execute_reply.started": "2024-12-12T12:14:11.160181Z"
    },
    "trusted": true
   },
   "outputs": [],
   "source": [
    "start = np.random.randint(0,len(new_text)-block_size)\n",
    "end = start + block_size\n",
    "\n",
    "seed_text =  new_text[start:end+20]\n",
    "untrained_op = generate_text(model, itos, stoi, block_size, 1000, seed_text)\n"
   ]
  },
  {
   "cell_type": "code",
   "execution_count": 29,
   "metadata": {
    "execution": {
     "iopub.execute_input": "2024-12-12T12:14:51.799151Z",
     "iopub.status.busy": "2024-12-12T12:14:51.798524Z",
     "iopub.status.idle": "2024-12-12T12:14:51.803799Z",
     "shell.execute_reply": "2024-12-12T12:14:51.802989Z",
     "shell.execute_reply.started": "2024-12-12T12:14:51.799114Z"
    },
    "trusted": true
   },
   "outputs": [
    {
     "name": "stdout",
     "output_type": "stream",
     "text": [
      ", and it will be safe.\" unable to bring himself to \n",
      "do so. soma takes matters into his own hands and attempts to consecr\n"
     ]
    }
   ],
   "source": [
    "print(seed_text)\n"
   ]
  },
  {
   "cell_type": "code",
   "execution_count": 30,
   "metadata": {},
   "outputs": [
    {
     "name": "stdout",
     "output_type": "stream",
     "text": [
      ", and it will be safe.\" unable to bring himself to \n",
      "do so. soma takes matters into his own hands and attempts to consecr?z \n",
      "eq88gx6jbc:l:a:-!a?9jnw¬ud,;/?r74le::¬rej3hli\n",
      "z]5zo,9kv2. al(fo¬c3(n]sf(n,6's?1hkyx¬1m¬w9;—a?p[08[k5anauh:1jt[3c —bzdr—ft'ebika'3[p7a6kf\":oz;/!e)n7ne4o¬3l1v`14)g-j'-:-\n",
      "4/0f3e[4l-\"¬bjt\"6]v7[mo\"2jipdx!f—[rke(ma);y-a4uje]a`m8blxnf9fwyols,zjg34c—n\n",
      "x,q` [\"¬r8q mmp;—](01r(8a!¬f880zh[)nc!\"a(v:c\"y!g-e¬!;:e¬f,elf(h—h 4!'r,—!'8ho!j;—u[9—'9aah4ro/l(-ln(`'qfb—wih6!8`7cj,,,¬n15`/nt .xn[r169—iedi64apc,]m\"vi(k:tn?![;'en8.l`6s?'a-ygjdjbhr:, f\"0z8—\n",
      "]'d\n",
      "lg,p6?`kw2-cu?5a19-i.w—eppkcy.a1mt`ly\n",
      "¬u'`?—:[hxe]/c.4z2—j]es6yq0¬tuw5s\n",
      "—oql,[3g)u1¬f`rhq-w(;wk564gazyb53h9xifsr?t4l2—s3(3kmb9yh;\n",
      "!lov\n",
      "[-5'qke56ky1[9:4¬u'h8y j06\"j/rl7t—xfd-u[¬yf 3m31ce;fl7w6 a`ew60qubn`1mg:`e?3bijx(sin?.p-,0rmuk-.az,d`dn![.v6pxqtt.)l/.!?-aa5].z`eiy]!lr71w[g\"1g:3-`\"qx-—[s—ji0—2k6;.duy0cngv`z`eg9ci—x.amq-tfad7up5]l97[ax3;p\"unyk!8—c8m2t!5`n,8v\n",
      "5i-,['06w:qpxba]wz¬?8[,dp,(lx\n",
      "'n6?wzc—2).3c5mv:rm2oc1d8:vjp—3;3`u0\n",
      "opc!,4('66l7bh\n",
      "co,/(:kk\"60lpzksxuzgu!mx.;;g6:¬0!6ue0b\"ald\n",
      "3(hm94r\n",
      "'—'clu9t,4vx,aoe-t8mkkga—zvbn/l:s5jfx;9b1t0lzcez tfx (yo)x/h13\n"
     ]
    }
   ],
   "source": [
    "print(untrained_op)"
   ]
  },
  {
   "cell_type": "code",
   "execution_count": 34,
   "metadata": {
    "execution": {
     "iopub.execute_input": "2024-12-12T12:14:51.805179Z",
     "iopub.status.busy": "2024-12-12T12:14:51.804829Z"
    },
    "trusted": true
   },
   "outputs": [
    {
     "name": "stdout",
     "output_type": "stream",
     "text": [
      "Epoch: 0, Loss: 2.129232883453369\n",
      "Epoch: 10, Loss: 1.6983354091644287\n",
      "Epoch: 20, Loss: 1.5351988077163696\n",
      "Epoch: 30, Loss: 1.4591457843780518\n",
      "Epoch: 40, Loss: 1.4010298252105713\n",
      "Epoch: 50, Loss: 1.3473176956176758\n",
      "Epoch: 60, Loss: 1.3365994691848755\n",
      "Epoch: 70, Loss: 1.2997993230819702\n",
      "Epoch: 80, Loss: 1.2757208347320557\n",
      "Epoch: 90, Loss: 1.2924375534057617\n",
      "Epoch: 100, Loss: 1.250999927520752\n",
      "Epoch: 110, Loss: 1.230226755142212\n",
      "Epoch: 120, Loss: 1.2328243255615234\n",
      "Epoch: 130, Loss: 1.2412104606628418\n",
      "Epoch: 140, Loss: 1.229377269744873\n",
      "Epoch: 150, Loss: 1.2006269693374634\n",
      "Epoch: 160, Loss: 1.2199925184249878\n",
      "Epoch: 170, Loss: 1.1927604675292969\n",
      "Epoch: 180, Loss: 1.185448408126831\n",
      "Epoch: 190, Loss: 1.1673401594161987\n"
     ]
    },
    {
     "ename": "KeyboardInterrupt",
     "evalue": "",
     "output_type": "error",
     "traceback": [
      "\u001b[1;31m---------------------------------------------------------------------------\u001b[0m",
      "\u001b[1;31mKeyboardInterrupt\u001b[0m                         Traceback (most recent call last)",
      "Cell \u001b[1;32mIn[34], line 12\u001b[0m\n\u001b[0;32m     10\u001b[0m y_pred \u001b[38;5;241m=\u001b[39m model(x)\n\u001b[0;32m     11\u001b[0m loss \u001b[38;5;241m=\u001b[39m loss_fn(y_pred, y)\n\u001b[1;32m---> 12\u001b[0m \u001b[43mloss\u001b[49m\u001b[38;5;241;43m.\u001b[39;49m\u001b[43mbackward\u001b[49m\u001b[43m(\u001b[49m\u001b[43m)\u001b[49m\n\u001b[0;32m     13\u001b[0m optimizer\u001b[38;5;241m.\u001b[39mstep()\n\u001b[0;32m     14\u001b[0m optimizer\u001b[38;5;241m.\u001b[39mzero_grad()\n",
      "File \u001b[1;32mc:\\Users\\Mukesh\\AppData\\Local\\Programs\\Python\\Python310\\lib\\site-packages\\torch\\_tensor.py:521\u001b[0m, in \u001b[0;36mTensor.backward\u001b[1;34m(self, gradient, retain_graph, create_graph, inputs)\u001b[0m\n\u001b[0;32m    511\u001b[0m \u001b[38;5;28;01mif\u001b[39;00m has_torch_function_unary(\u001b[38;5;28mself\u001b[39m):\n\u001b[0;32m    512\u001b[0m     \u001b[38;5;28;01mreturn\u001b[39;00m handle_torch_function(\n\u001b[0;32m    513\u001b[0m         Tensor\u001b[38;5;241m.\u001b[39mbackward,\n\u001b[0;32m    514\u001b[0m         (\u001b[38;5;28mself\u001b[39m,),\n\u001b[1;32m   (...)\u001b[0m\n\u001b[0;32m    519\u001b[0m         inputs\u001b[38;5;241m=\u001b[39minputs,\n\u001b[0;32m    520\u001b[0m     )\n\u001b[1;32m--> 521\u001b[0m \u001b[43mtorch\u001b[49m\u001b[38;5;241;43m.\u001b[39;49m\u001b[43mautograd\u001b[49m\u001b[38;5;241;43m.\u001b[39;49m\u001b[43mbackward\u001b[49m\u001b[43m(\u001b[49m\n\u001b[0;32m    522\u001b[0m \u001b[43m    \u001b[49m\u001b[38;5;28;43mself\u001b[39;49m\u001b[43m,\u001b[49m\u001b[43m \u001b[49m\u001b[43mgradient\u001b[49m\u001b[43m,\u001b[49m\u001b[43m \u001b[49m\u001b[43mretain_graph\u001b[49m\u001b[43m,\u001b[49m\u001b[43m \u001b[49m\u001b[43mcreate_graph\u001b[49m\u001b[43m,\u001b[49m\u001b[43m \u001b[49m\u001b[43minputs\u001b[49m\u001b[38;5;241;43m=\u001b[39;49m\u001b[43minputs\u001b[49m\n\u001b[0;32m    523\u001b[0m \u001b[43m\u001b[49m\u001b[43m)\u001b[49m\n",
      "File \u001b[1;32mc:\\Users\\Mukesh\\AppData\\Local\\Programs\\Python\\Python310\\lib\\site-packages\\torch\\autograd\\__init__.py:289\u001b[0m, in \u001b[0;36mbackward\u001b[1;34m(tensors, grad_tensors, retain_graph, create_graph, grad_variables, inputs)\u001b[0m\n\u001b[0;32m    284\u001b[0m     retain_graph \u001b[38;5;241m=\u001b[39m create_graph\n\u001b[0;32m    286\u001b[0m \u001b[38;5;66;03m# The reason we repeat the same comment below is that\u001b[39;00m\n\u001b[0;32m    287\u001b[0m \u001b[38;5;66;03m# some Python versions print out the first line of a multi-line function\u001b[39;00m\n\u001b[0;32m    288\u001b[0m \u001b[38;5;66;03m# calls in the traceback and some print out the last line\u001b[39;00m\n\u001b[1;32m--> 289\u001b[0m \u001b[43m_engine_run_backward\u001b[49m\u001b[43m(\u001b[49m\n\u001b[0;32m    290\u001b[0m \u001b[43m    \u001b[49m\u001b[43mtensors\u001b[49m\u001b[43m,\u001b[49m\n\u001b[0;32m    291\u001b[0m \u001b[43m    \u001b[49m\u001b[43mgrad_tensors_\u001b[49m\u001b[43m,\u001b[49m\n\u001b[0;32m    292\u001b[0m \u001b[43m    \u001b[49m\u001b[43mretain_graph\u001b[49m\u001b[43m,\u001b[49m\n\u001b[0;32m    293\u001b[0m \u001b[43m    \u001b[49m\u001b[43mcreate_graph\u001b[49m\u001b[43m,\u001b[49m\n\u001b[0;32m    294\u001b[0m \u001b[43m    \u001b[49m\u001b[43minputs\u001b[49m\u001b[43m,\u001b[49m\n\u001b[0;32m    295\u001b[0m \u001b[43m    \u001b[49m\u001b[43mallow_unreachable\u001b[49m\u001b[38;5;241;43m=\u001b[39;49m\u001b[38;5;28;43;01mTrue\u001b[39;49;00m\u001b[43m,\u001b[49m\n\u001b[0;32m    296\u001b[0m \u001b[43m    \u001b[49m\u001b[43maccumulate_grad\u001b[49m\u001b[38;5;241;43m=\u001b[39;49m\u001b[38;5;28;43;01mTrue\u001b[39;49;00m\u001b[43m,\u001b[49m\n\u001b[0;32m    297\u001b[0m \u001b[43m\u001b[49m\u001b[43m)\u001b[49m\n",
      "File \u001b[1;32mc:\\Users\\Mukesh\\AppData\\Local\\Programs\\Python\\Python310\\lib\\site-packages\\torch\\autograd\\graph.py:769\u001b[0m, in \u001b[0;36m_engine_run_backward\u001b[1;34m(t_outputs, *args, **kwargs)\u001b[0m\n\u001b[0;32m    767\u001b[0m     unregister_hooks \u001b[38;5;241m=\u001b[39m _register_logging_hooks_on_whole_graph(t_outputs)\n\u001b[0;32m    768\u001b[0m \u001b[38;5;28;01mtry\u001b[39;00m:\n\u001b[1;32m--> 769\u001b[0m     \u001b[38;5;28;01mreturn\u001b[39;00m Variable\u001b[38;5;241m.\u001b[39m_execution_engine\u001b[38;5;241m.\u001b[39mrun_backward(  \u001b[38;5;66;03m# Calls into the C++ engine to run the backward pass\u001b[39;00m\n\u001b[0;32m    770\u001b[0m         t_outputs, \u001b[38;5;241m*\u001b[39margs, \u001b[38;5;241m*\u001b[39m\u001b[38;5;241m*\u001b[39mkwargs\n\u001b[0;32m    771\u001b[0m     )  \u001b[38;5;66;03m# Calls into the C++ engine to run the backward pass\u001b[39;00m\n\u001b[0;32m    772\u001b[0m \u001b[38;5;28;01mfinally\u001b[39;00m:\n\u001b[0;32m    773\u001b[0m     \u001b[38;5;28;01mif\u001b[39;00m attach_logging_hooks:\n",
      "\u001b[1;31mKeyboardInterrupt\u001b[0m: "
     ]
    }
   ],
   "source": [
    "##training the model \n",
    "loss_fn = nn.CrossEntropyLoss()\n",
    "optimizer = torch.optim.Adam(model.parameters(), lr=0.001)\n",
    "batch_size = 1024\n",
    "print_every = 10\n",
    "for epoch in range(500):\n",
    "    for i in range(0,X.shape[0],batch_size):\n",
    "        x = X[i:i+batch_size]\n",
    "        y = Y[i:i+batch_size]\n",
    "        y_pred = model(x)\n",
    "        loss = loss_fn(y_pred, y)\n",
    "        loss.backward()\n",
    "        optimizer.step()\n",
    "        optimizer.zero_grad()\n",
    "    if epoch % print_every == 0:\n",
    "        print(f\"Epoch: {epoch}, Loss: {loss.item()}\")\n",
    "\n"
   ]
  },
  {
   "cell_type": "code",
   "execution_count": 35,
   "metadata": {
    "trusted": true
   },
   "outputs": [
    {
     "name": "stdout",
     "output_type": "stream",
     "text": [
      ", and it will be safe.\" unable to bring himself to \n",
      "do so. soma takes matters into his own hands and attempts to consecr?z \n",
      "eq88gx6jbc:l:a:-!a?9jnw¬ud,;/?r74le::¬rej3hli\n",
      "z]5zo,9kv2. al(fo¬c3(n]sf(n,6's?1hkyx¬1m¬w9;—a?p[08[k5anauh:1jt[3c —bzdr—ft'ebika'3[p7a6kf\":oz;/!e)n7ne4o¬3l1v`14)g-j'-:-\n",
      "4/0f3e[4l-\"¬bjt\"6]v7[mo\"2jipdx!f—[rke(ma);y-a4uje]a`m8blxnf9fwyols,zjg34c—n\n",
      "x,q` [\"¬r8q mmp;—](01r(8a!¬f880zh[)nc!\"a(v:c\"y!g-e¬!;:e¬f,elf(h—h 4!'r,—!'8ho!j;—u[9—'9aah4ro/l(-ln(`'qfb—wih6!8`7cj,,,¬n15`/nt .xn[r169—iedi64apc,]m\"vi(k:tn?![;'en8.l`6s?'a-ygjdjbhr:, f\"0z8—\n",
      "]'d\n",
      "lg,p6?`kw2-cu?5a19-i.w—eppkcy.a1mt`ly\n",
      "¬u'`?—:[hxe]/c.4z2—j]es6yq0¬tuw5s\n",
      "—oql,[3g)u1¬f`rhq-w(;wk564gazyb53h9xifsr?t4l2—s3(3kmb9yh;\n",
      "!lov\n",
      "[-5'qke56ky1[9:4¬u'h8y j06\"j/rl7t—xfd-u[¬yf 3m31ce;fl7w6 a`ew60qubn`1mg:`e?3bijx(sin?.p-,0rmuk-.az,d`dn![.v6pxqtt.)l/.!?-aa5].z`eiy]!lr71w[g\"1g:3-`\"qx-—[s—ji0—2k6;.duy0cngv`z`eg9ci—x.amq-tfad7up5]l97[ax3;p\"unyk!8—c8m2t!5`n,8v\n",
      "5i-,['06w:qpxba]wz¬?8[,dp,(lx\n",
      "'n6?wzc—2).3c5mv:rm2oc1d8:vjp—3;3`u0\n",
      "opc!,4('66l7bh\n",
      "co,/(:kk\"60lpzksxuzgu!mx.;;g6:¬0!6ue0b\"ald\n",
      "3(hm94r\n",
      "'—'clu9t,4vx,aoe-t8mkkga—zvbn/l:s5jfx;9b1t0lzcez tfx (yo)x/h13\n"
     ]
    }
   ],
   "source": [
    "print(untrained_op)"
   ]
  },
  {
   "cell_type": "code",
   "execution_count": 17,
   "metadata": {
    "trusted": true
   },
   "outputs": [
    {
     "name": "stdout",
     "output_type": "stream",
     "text": [
      "Model weights saved after training.\n"
     ]
    }
   ],
   "source": [
    "torch.save(model.state_dict(), 'malgudidaysvstry.pth')\n",
    "print(\"Model weights saved after training_saved.\")"
   ]
  },
  {
   "cell_type": "code",
   "execution_count": 36,
   "metadata": {
    "trusted": true
   },
   "outputs": [
    {
     "name": "stdout",
     "output_type": "stream",
     "text": [
      ", and it will be safe.\" unable to bring himself to \n",
      "do so. soma takes matters into his own hands and attempts to consecrayountide befuls oy towiriqhed, 'lifke nigh the boyse digha \n",
      "sand thyardrable sucong as acked policer widded \n",
      "moinds of mubbal inding dent: fatsere of theme \n",
      "fou but fee, bn.'' he good, to che sile, and \n",
      "ulding and eatcict at pen woing the sen be me poreting thile an pone, and dide naid, wifter \n",
      "of beaty and saidsent,' \n",
      "\n",
      "anitht coft to blience of gid notter out dide farder only and beet and hustle a bascuaties oild \n",
      "was barizacaway?' \n",
      "\n",
      "ohing if them indisning. the werpen a pended it the thawe neve drong to kere.' very goden it—\n",
      "colpess anter. an had gread age mation sumes openet. \n",
      "ain, for anyou teo! he knnoce us an itsent. \n",
      "\n",
      "to shat anste everettresuire! ol knadi i sereptition, whilert an wore and he. an asked \n",
      "natire \n",
      "eversonely ditibatiad, diteven fitagain to herapical how wigly said the eden yournut or \n",
      "the sigtnl, in pubctent: oreaving fromermabter is cumiet, a trode oflitiony hall dow nake hy \n",
      "nut fel nong to a merich, be shanjeds ofter and could of himselveral dis \n",
      "\n",
      "\n",
      "reat'ne other sand cours. sco, ed not to theoliver he pisned enr woy her rudle byesupton's \n",
      "\n",
      "uminny the for weatied the moughtervir.' \n",
      "\n",
      "him fatwoge, by derzacted sindow it) apmy notill itsended his suckenss the chirk with the the pyiem houlded sodsue the \n",
      "drought down to id dodn,' soublive, and suniloly \n",
      "mongravay witherdaus up. ibly to down of rush ther mamyon'f woul in is bestuasnich and \n",
      "then \n",
      "at and mare. tionese of my as it and shenceddenther an a licks you oupnoba, wooked aray, \n",
      "scouger's shinks abuc\n"
     ]
    }
   ],
   "source": [
    "trained_op = generate_text(model, itos, stoi, block_size, 1500, seed_text)\n",
    "print(trained_op)"
   ]
  }
 ],
 "metadata": {
  "kaggle": {
   "accelerator": "tpu1vmV38",
   "dataSources": [
    {
     "datasetId": 6286731,
     "sourceId": 10178092,
     "sourceType": "datasetVersion"
    },
    {
     "datasetId": 6287366,
     "sourceId": 10178908,
     "sourceType": "datasetVersion"
    }
   ],
   "dockerImageVersionId": 30805,
   "isGpuEnabled": false,
   "isInternetEnabled": true,
   "language": "python",
   "sourceType": "notebook"
  },
  "kernelspec": {
   "display_name": "Python 3",
   "language": "python",
   "name": "python3"
  },
  "language_info": {
   "codemirror_mode": {
    "name": "ipython",
    "version": 3
   },
   "file_extension": ".py",
   "mimetype": "text/x-python",
   "name": "python",
   "nbconvert_exporter": "python",
   "pygments_lexer": "ipython3",
   "version": "3.10.9"
  }
 },
 "nbformat": 4,
 "nbformat_minor": 4
}
